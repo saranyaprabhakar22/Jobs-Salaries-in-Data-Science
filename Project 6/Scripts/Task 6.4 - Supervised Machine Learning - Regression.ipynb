{
 "cells": [
  {
   "cell_type": "markdown",
   "id": "076c1e14",
   "metadata": {},
   "source": [
    "# Regression Analysis\n",
    "\n",
    "# 1. Importing libraries and data\n",
    "\n",
    "# 2. Data Cleaning\n",
    "\n",
    "# 3. Data prep for regression analysis\n",
    "\n",
    "# 4. Regression analysis"
   ]
  },
  {
   "cell_type": "markdown",
   "id": "407f0e13",
   "metadata": {},
   "source": [
    "# 1. Importing libraries and data"
   ]
  },
  {
   "cell_type": "code",
   "execution_count": 1,
   "id": "bd5ed117",
   "metadata": {},
   "outputs": [],
   "source": [
    "# Importing libraries\n",
    "\n",
    "import pandas as pd\n",
    "import numpy as np\n",
    "import seaborn as sns\n",
    "import matplotlib\n",
    "import matplotlib.pyplot as plt\n",
    "import os\n",
    "import sklearn\n",
    "from sklearn.model_selection import train_test_split \n",
    "from sklearn.linear_model import LinearRegression\n",
    "from sklearn.metrics import mean_squared_error, r2_score"
   ]
  },
  {
   "cell_type": "code",
   "execution_count": 2,
   "id": "81f6b3bc",
   "metadata": {},
   "outputs": [],
   "source": [
    "# Creating path for importing data\n",
    "\n",
    "path = r'C:\\Users\\srira\\OneDrive\\Documents\\Project 6'"
   ]
  },
  {
   "cell_type": "code",
   "execution_count": 3,
   "id": "7bf28479",
   "metadata": {},
   "outputs": [],
   "source": [
    "# Importing data jobs_salaries.csv\n",
    "\n",
    "df_sal = pd.read_csv(os.path.join(path, 'Prepared Data', 'jobs_salaries.csv'))"
   ]
  },
  {
   "cell_type": "markdown",
   "id": "e39255bd",
   "metadata": {},
   "source": [
    "# 2. Data Cleaning"
   ]
  },
  {
   "cell_type": "code",
   "execution_count": 4,
   "id": "e1d4f526",
   "metadata": {},
   "outputs": [
    {
     "data": {
      "text/html": [
       "<div>\n",
       "<style scoped>\n",
       "    .dataframe tbody tr th:only-of-type {\n",
       "        vertical-align: middle;\n",
       "    }\n",
       "\n",
       "    .dataframe tbody tr th {\n",
       "        vertical-align: top;\n",
       "    }\n",
       "\n",
       "    .dataframe thead th {\n",
       "        text-align: right;\n",
       "    }\n",
       "</style>\n",
       "<table border=\"1\" class=\"dataframe\">\n",
       "  <thead>\n",
       "    <tr style=\"text-align: right;\">\n",
       "      <th></th>\n",
       "      <th>Unnamed: 0</th>\n",
       "      <th>work_year</th>\n",
       "      <th>job_title</th>\n",
       "      <th>job_category</th>\n",
       "      <th>salary_currency</th>\n",
       "      <th>salary</th>\n",
       "      <th>salary_in_usd</th>\n",
       "      <th>employee_residence</th>\n",
       "      <th>experience_level</th>\n",
       "      <th>employment_type</th>\n",
       "      <th>work_setting</th>\n",
       "      <th>company_location</th>\n",
       "      <th>company_size</th>\n",
       "    </tr>\n",
       "  </thead>\n",
       "  <tbody>\n",
       "    <tr>\n",
       "      <th>0</th>\n",
       "      <td>0</td>\n",
       "      <td>2023</td>\n",
       "      <td>Data DevOps Engineer</td>\n",
       "      <td>Data Engineering</td>\n",
       "      <td>EUR</td>\n",
       "      <td>88000</td>\n",
       "      <td>95012</td>\n",
       "      <td>Germany</td>\n",
       "      <td>Mid-level</td>\n",
       "      <td>Full-time</td>\n",
       "      <td>Hybrid</td>\n",
       "      <td>Germany</td>\n",
       "      <td>L</td>\n",
       "    </tr>\n",
       "    <tr>\n",
       "      <th>1</th>\n",
       "      <td>1</td>\n",
       "      <td>2023</td>\n",
       "      <td>Data Architect</td>\n",
       "      <td>Data Architecture and Modeling</td>\n",
       "      <td>USD</td>\n",
       "      <td>186000</td>\n",
       "      <td>186000</td>\n",
       "      <td>United States</td>\n",
       "      <td>Senior</td>\n",
       "      <td>Full-time</td>\n",
       "      <td>In-person</td>\n",
       "      <td>United States</td>\n",
       "      <td>M</td>\n",
       "    </tr>\n",
       "    <tr>\n",
       "      <th>2</th>\n",
       "      <td>2</td>\n",
       "      <td>2023</td>\n",
       "      <td>Data Architect</td>\n",
       "      <td>Data Architecture and Modeling</td>\n",
       "      <td>USD</td>\n",
       "      <td>81800</td>\n",
       "      <td>81800</td>\n",
       "      <td>United States</td>\n",
       "      <td>Senior</td>\n",
       "      <td>Full-time</td>\n",
       "      <td>In-person</td>\n",
       "      <td>United States</td>\n",
       "      <td>M</td>\n",
       "    </tr>\n",
       "    <tr>\n",
       "      <th>3</th>\n",
       "      <td>3</td>\n",
       "      <td>2023</td>\n",
       "      <td>Data Scientist</td>\n",
       "      <td>Data Science and Research</td>\n",
       "      <td>USD</td>\n",
       "      <td>212000</td>\n",
       "      <td>212000</td>\n",
       "      <td>United States</td>\n",
       "      <td>Senior</td>\n",
       "      <td>Full-time</td>\n",
       "      <td>In-person</td>\n",
       "      <td>United States</td>\n",
       "      <td>M</td>\n",
       "    </tr>\n",
       "    <tr>\n",
       "      <th>4</th>\n",
       "      <td>4</td>\n",
       "      <td>2023</td>\n",
       "      <td>Data Scientist</td>\n",
       "      <td>Data Science and Research</td>\n",
       "      <td>USD</td>\n",
       "      <td>93300</td>\n",
       "      <td>93300</td>\n",
       "      <td>United States</td>\n",
       "      <td>Senior</td>\n",
       "      <td>Full-time</td>\n",
       "      <td>In-person</td>\n",
       "      <td>United States</td>\n",
       "      <td>M</td>\n",
       "    </tr>\n",
       "  </tbody>\n",
       "</table>\n",
       "</div>"
      ],
      "text/plain": [
       "   Unnamed: 0  work_year             job_title  \\\n",
       "0           0       2023  Data DevOps Engineer   \n",
       "1           1       2023        Data Architect   \n",
       "2           2       2023        Data Architect   \n",
       "3           3       2023        Data Scientist   \n",
       "4           4       2023        Data Scientist   \n",
       "\n",
       "                     job_category salary_currency  salary  salary_in_usd  \\\n",
       "0                Data Engineering             EUR   88000          95012   \n",
       "1  Data Architecture and Modeling             USD  186000         186000   \n",
       "2  Data Architecture and Modeling             USD   81800          81800   \n",
       "3       Data Science and Research             USD  212000         212000   \n",
       "4       Data Science and Research             USD   93300          93300   \n",
       "\n",
       "  employee_residence experience_level employment_type work_setting  \\\n",
       "0            Germany        Mid-level       Full-time       Hybrid   \n",
       "1      United States           Senior       Full-time    In-person   \n",
       "2      United States           Senior       Full-time    In-person   \n",
       "3      United States           Senior       Full-time    In-person   \n",
       "4      United States           Senior       Full-time    In-person   \n",
       "\n",
       "  company_location company_size  \n",
       "0          Germany            L  \n",
       "1    United States            M  \n",
       "2    United States            M  \n",
       "3    United States            M  \n",
       "4    United States            M  "
      ]
     },
     "execution_count": 4,
     "metadata": {},
     "output_type": "execute_result"
    }
   ],
   "source": [
    "# Checking the dataframe\n",
    "df_sal.head()"
   ]
  },
  {
   "cell_type": "code",
   "execution_count": 5,
   "id": "9f591b05",
   "metadata": {},
   "outputs": [],
   "source": [
    "# Renaming the abbreviations in the company_size column\n",
    "\n",
    "com_size = {'S' : 'Small',\n",
    "       'M' : 'Medium',\n",
    "       'L' : 'Large'}\n",
    "\n",
    "df_sal['company_size'] = df_sal['company_size'].replace(com_size)"
   ]
  },
  {
   "cell_type": "code",
   "execution_count": 6,
   "id": "d2e793a0",
   "metadata": {},
   "outputs": [
    {
     "data": {
      "text/html": [
       "<div>\n",
       "<style scoped>\n",
       "    .dataframe tbody tr th:only-of-type {\n",
       "        vertical-align: middle;\n",
       "    }\n",
       "\n",
       "    .dataframe tbody tr th {\n",
       "        vertical-align: top;\n",
       "    }\n",
       "\n",
       "    .dataframe thead th {\n",
       "        text-align: right;\n",
       "    }\n",
       "</style>\n",
       "<table border=\"1\" class=\"dataframe\">\n",
       "  <thead>\n",
       "    <tr style=\"text-align: right;\">\n",
       "      <th></th>\n",
       "      <th>Unnamed: 0</th>\n",
       "      <th>work_year</th>\n",
       "      <th>job_title</th>\n",
       "      <th>job_category</th>\n",
       "      <th>salary_currency</th>\n",
       "      <th>salary</th>\n",
       "      <th>salary_in_usd</th>\n",
       "      <th>employee_residence</th>\n",
       "      <th>experience_level</th>\n",
       "      <th>employment_type</th>\n",
       "      <th>work_setting</th>\n",
       "      <th>company_location</th>\n",
       "      <th>company_size</th>\n",
       "    </tr>\n",
       "  </thead>\n",
       "  <tbody>\n",
       "    <tr>\n",
       "      <th>0</th>\n",
       "      <td>0</td>\n",
       "      <td>2023</td>\n",
       "      <td>Data DevOps Engineer</td>\n",
       "      <td>Data Engineering</td>\n",
       "      <td>EUR</td>\n",
       "      <td>88000</td>\n",
       "      <td>95012</td>\n",
       "      <td>Germany</td>\n",
       "      <td>Mid-level</td>\n",
       "      <td>Full-time</td>\n",
       "      <td>Hybrid</td>\n",
       "      <td>Germany</td>\n",
       "      <td>Large</td>\n",
       "    </tr>\n",
       "    <tr>\n",
       "      <th>1</th>\n",
       "      <td>1</td>\n",
       "      <td>2023</td>\n",
       "      <td>Data Architect</td>\n",
       "      <td>Data Architecture and Modeling</td>\n",
       "      <td>USD</td>\n",
       "      <td>186000</td>\n",
       "      <td>186000</td>\n",
       "      <td>United States</td>\n",
       "      <td>Senior</td>\n",
       "      <td>Full-time</td>\n",
       "      <td>In-person</td>\n",
       "      <td>United States</td>\n",
       "      <td>Medium</td>\n",
       "    </tr>\n",
       "    <tr>\n",
       "      <th>2</th>\n",
       "      <td>2</td>\n",
       "      <td>2023</td>\n",
       "      <td>Data Architect</td>\n",
       "      <td>Data Architecture and Modeling</td>\n",
       "      <td>USD</td>\n",
       "      <td>81800</td>\n",
       "      <td>81800</td>\n",
       "      <td>United States</td>\n",
       "      <td>Senior</td>\n",
       "      <td>Full-time</td>\n",
       "      <td>In-person</td>\n",
       "      <td>United States</td>\n",
       "      <td>Medium</td>\n",
       "    </tr>\n",
       "    <tr>\n",
       "      <th>3</th>\n",
       "      <td>3</td>\n",
       "      <td>2023</td>\n",
       "      <td>Data Scientist</td>\n",
       "      <td>Data Science and Research</td>\n",
       "      <td>USD</td>\n",
       "      <td>212000</td>\n",
       "      <td>212000</td>\n",
       "      <td>United States</td>\n",
       "      <td>Senior</td>\n",
       "      <td>Full-time</td>\n",
       "      <td>In-person</td>\n",
       "      <td>United States</td>\n",
       "      <td>Medium</td>\n",
       "    </tr>\n",
       "    <tr>\n",
       "      <th>4</th>\n",
       "      <td>4</td>\n",
       "      <td>2023</td>\n",
       "      <td>Data Scientist</td>\n",
       "      <td>Data Science and Research</td>\n",
       "      <td>USD</td>\n",
       "      <td>93300</td>\n",
       "      <td>93300</td>\n",
       "      <td>United States</td>\n",
       "      <td>Senior</td>\n",
       "      <td>Full-time</td>\n",
       "      <td>In-person</td>\n",
       "      <td>United States</td>\n",
       "      <td>Medium</td>\n",
       "    </tr>\n",
       "  </tbody>\n",
       "</table>\n",
       "</div>"
      ],
      "text/plain": [
       "   Unnamed: 0  work_year             job_title  \\\n",
       "0           0       2023  Data DevOps Engineer   \n",
       "1           1       2023        Data Architect   \n",
       "2           2       2023        Data Architect   \n",
       "3           3       2023        Data Scientist   \n",
       "4           4       2023        Data Scientist   \n",
       "\n",
       "                     job_category salary_currency  salary  salary_in_usd  \\\n",
       "0                Data Engineering             EUR   88000          95012   \n",
       "1  Data Architecture and Modeling             USD  186000         186000   \n",
       "2  Data Architecture and Modeling             USD   81800          81800   \n",
       "3       Data Science and Research             USD  212000         212000   \n",
       "4       Data Science and Research             USD   93300          93300   \n",
       "\n",
       "  employee_residence experience_level employment_type work_setting  \\\n",
       "0            Germany        Mid-level       Full-time       Hybrid   \n",
       "1      United States           Senior       Full-time    In-person   \n",
       "2      United States           Senior       Full-time    In-person   \n",
       "3      United States           Senior       Full-time    In-person   \n",
       "4      United States           Senior       Full-time    In-person   \n",
       "\n",
       "  company_location company_size  \n",
       "0          Germany        Large  \n",
       "1    United States       Medium  \n",
       "2    United States       Medium  \n",
       "3    United States       Medium  \n",
       "4    United States       Medium  "
      ]
     },
     "execution_count": 6,
     "metadata": {},
     "output_type": "execute_result"
    }
   ],
   "source": [
    "df_sal.head()"
   ]
  },
  {
   "cell_type": "code",
   "execution_count": 7,
   "id": "426e02a6",
   "metadata": {},
   "outputs": [
    {
     "data": {
      "text/plain": [
       "(9355, 13)"
      ]
     },
     "execution_count": 7,
     "metadata": {},
     "output_type": "execute_result"
    }
   ],
   "source": [
    "# Checking the total number of rows and columns\n",
    "df_sal.shape"
   ]
  },
  {
   "cell_type": "code",
   "execution_count": 8,
   "id": "b8dd7ef5",
   "metadata": {},
   "outputs": [],
   "source": [
    "# Drop the columns that are unnecessary\n",
    "df_sal = df_sal.drop(columns = ['Unnamed: 0'])"
   ]
  },
  {
   "cell_type": "code",
   "execution_count": 9,
   "id": "c4241c5e",
   "metadata": {},
   "outputs": [
    {
     "data": {
      "text/plain": [
       "Index(['work_year', 'job_title', 'job_category', 'salary_currency', 'salary',\n",
       "       'salary_in_usd', 'employee_residence', 'experience_level',\n",
       "       'employment_type', 'work_setting', 'company_location', 'company_size'],\n",
       "      dtype='object')"
      ]
     },
     "execution_count": 9,
     "metadata": {},
     "output_type": "execute_result"
    }
   ],
   "source": [
    "df_sal.columns"
   ]
  },
  {
   "cell_type": "markdown",
   "id": "7a685cfb",
   "metadata": {},
   "source": [
    "# 2. Data Cleaning"
   ]
  },
  {
   "cell_type": "code",
   "execution_count": 10,
   "id": "f28df32d",
   "metadata": {},
   "outputs": [
    {
     "data": {
      "text/plain": [
       "work_year             0\n",
       "job_title             0\n",
       "job_category          0\n",
       "salary_currency       0\n",
       "salary                0\n",
       "salary_in_usd         0\n",
       "employee_residence    0\n",
       "experience_level      0\n",
       "employment_type       0\n",
       "work_setting          0\n",
       "company_location      0\n",
       "company_size          0\n",
       "dtype: int64"
      ]
     },
     "execution_count": 10,
     "metadata": {},
     "output_type": "execute_result"
    }
   ],
   "source": [
    "# Check for missing values\n",
    "df_sal.isnull().sum()"
   ]
  },
  {
   "cell_type": "markdown",
   "id": "f9695ad2",
   "metadata": {},
   "source": [
    "# There are no missing values."
   ]
  },
  {
   "cell_type": "code",
   "execution_count": 11,
   "id": "a8d06d89",
   "metadata": {},
   "outputs": [],
   "source": [
    "# Check for duplicate values\n",
    "\n",
    "dups = df_sal[df_sal.duplicated()]"
   ]
  },
  {
   "cell_type": "code",
   "execution_count": 12,
   "id": "c39b9c51",
   "metadata": {},
   "outputs": [
    {
     "data": {
      "text/html": [
       "<div>\n",
       "<style scoped>\n",
       "    .dataframe tbody tr th:only-of-type {\n",
       "        vertical-align: middle;\n",
       "    }\n",
       "\n",
       "    .dataframe tbody tr th {\n",
       "        vertical-align: top;\n",
       "    }\n",
       "\n",
       "    .dataframe thead th {\n",
       "        text-align: right;\n",
       "    }\n",
       "</style>\n",
       "<table border=\"1\" class=\"dataframe\">\n",
       "  <thead>\n",
       "    <tr style=\"text-align: right;\">\n",
       "      <th></th>\n",
       "      <th>work_year</th>\n",
       "      <th>job_title</th>\n",
       "      <th>job_category</th>\n",
       "      <th>salary_currency</th>\n",
       "      <th>salary</th>\n",
       "      <th>salary_in_usd</th>\n",
       "      <th>employee_residence</th>\n",
       "      <th>experience_level</th>\n",
       "      <th>employment_type</th>\n",
       "      <th>work_setting</th>\n",
       "      <th>company_location</th>\n",
       "      <th>company_size</th>\n",
       "    </tr>\n",
       "  </thead>\n",
       "  <tbody>\n",
       "    <tr>\n",
       "      <th>64</th>\n",
       "      <td>2023</td>\n",
       "      <td>Data Analyst</td>\n",
       "      <td>Data Analysis</td>\n",
       "      <td>USD</td>\n",
       "      <td>75000</td>\n",
       "      <td>75000</td>\n",
       "      <td>United States</td>\n",
       "      <td>Entry-level</td>\n",
       "      <td>Full-time</td>\n",
       "      <td>In-person</td>\n",
       "      <td>United States</td>\n",
       "      <td>Medium</td>\n",
       "    </tr>\n",
       "    <tr>\n",
       "      <th>111</th>\n",
       "      <td>2023</td>\n",
       "      <td>Research Scientist</td>\n",
       "      <td>Data Science and Research</td>\n",
       "      <td>USD</td>\n",
       "      <td>165000</td>\n",
       "      <td>165000</td>\n",
       "      <td>United States</td>\n",
       "      <td>Mid-level</td>\n",
       "      <td>Full-time</td>\n",
       "      <td>Remote</td>\n",
       "      <td>United States</td>\n",
       "      <td>Medium</td>\n",
       "    </tr>\n",
       "    <tr>\n",
       "      <th>112</th>\n",
       "      <td>2023</td>\n",
       "      <td>Research Scientist</td>\n",
       "      <td>Data Science and Research</td>\n",
       "      <td>USD</td>\n",
       "      <td>118800</td>\n",
       "      <td>118800</td>\n",
       "      <td>United States</td>\n",
       "      <td>Mid-level</td>\n",
       "      <td>Full-time</td>\n",
       "      <td>Remote</td>\n",
       "      <td>United States</td>\n",
       "      <td>Medium</td>\n",
       "    </tr>\n",
       "    <tr>\n",
       "      <th>115</th>\n",
       "      <td>2023</td>\n",
       "      <td>Data Engineer</td>\n",
       "      <td>Data Engineering</td>\n",
       "      <td>USD</td>\n",
       "      <td>184000</td>\n",
       "      <td>184000</td>\n",
       "      <td>United States</td>\n",
       "      <td>Mid-level</td>\n",
       "      <td>Full-time</td>\n",
       "      <td>In-person</td>\n",
       "      <td>United States</td>\n",
       "      <td>Medium</td>\n",
       "    </tr>\n",
       "    <tr>\n",
       "      <th>116</th>\n",
       "      <td>2023</td>\n",
       "      <td>Data Engineer</td>\n",
       "      <td>Data Engineering</td>\n",
       "      <td>USD</td>\n",
       "      <td>123000</td>\n",
       "      <td>123000</td>\n",
       "      <td>United States</td>\n",
       "      <td>Mid-level</td>\n",
       "      <td>Full-time</td>\n",
       "      <td>In-person</td>\n",
       "      <td>United States</td>\n",
       "      <td>Medium</td>\n",
       "    </tr>\n",
       "    <tr>\n",
       "      <th>...</th>\n",
       "      <td>...</td>\n",
       "      <td>...</td>\n",
       "      <td>...</td>\n",
       "      <td>...</td>\n",
       "      <td>...</td>\n",
       "      <td>...</td>\n",
       "      <td>...</td>\n",
       "      <td>...</td>\n",
       "      <td>...</td>\n",
       "      <td>...</td>\n",
       "      <td>...</td>\n",
       "      <td>...</td>\n",
       "    </tr>\n",
       "    <tr>\n",
       "      <th>9079</th>\n",
       "      <td>2022</td>\n",
       "      <td>Data Scientist</td>\n",
       "      <td>Data Science and Research</td>\n",
       "      <td>USD</td>\n",
       "      <td>78000</td>\n",
       "      <td>78000</td>\n",
       "      <td>United States</td>\n",
       "      <td>Mid-level</td>\n",
       "      <td>Full-time</td>\n",
       "      <td>Remote</td>\n",
       "      <td>United States</td>\n",
       "      <td>Medium</td>\n",
       "    </tr>\n",
       "    <tr>\n",
       "      <th>9080</th>\n",
       "      <td>2022</td>\n",
       "      <td>Data Engineer</td>\n",
       "      <td>Data Engineering</td>\n",
       "      <td>USD</td>\n",
       "      <td>135000</td>\n",
       "      <td>135000</td>\n",
       "      <td>United States</td>\n",
       "      <td>Senior</td>\n",
       "      <td>Full-time</td>\n",
       "      <td>Remote</td>\n",
       "      <td>United States</td>\n",
       "      <td>Medium</td>\n",
       "    </tr>\n",
       "    <tr>\n",
       "      <th>9081</th>\n",
       "      <td>2022</td>\n",
       "      <td>Data Engineer</td>\n",
       "      <td>Data Engineering</td>\n",
       "      <td>USD</td>\n",
       "      <td>115000</td>\n",
       "      <td>115000</td>\n",
       "      <td>United States</td>\n",
       "      <td>Senior</td>\n",
       "      <td>Full-time</td>\n",
       "      <td>Remote</td>\n",
       "      <td>United States</td>\n",
       "      <td>Medium</td>\n",
       "    </tr>\n",
       "    <tr>\n",
       "      <th>9214</th>\n",
       "      <td>2021</td>\n",
       "      <td>Data Engineer</td>\n",
       "      <td>Data Engineering</td>\n",
       "      <td>USD</td>\n",
       "      <td>200000</td>\n",
       "      <td>200000</td>\n",
       "      <td>United States</td>\n",
       "      <td>Mid-level</td>\n",
       "      <td>Full-time</td>\n",
       "      <td>Remote</td>\n",
       "      <td>United States</td>\n",
       "      <td>Large</td>\n",
       "    </tr>\n",
       "    <tr>\n",
       "      <th>9314</th>\n",
       "      <td>2021</td>\n",
       "      <td>Data Scientist</td>\n",
       "      <td>Data Science and Research</td>\n",
       "      <td>EUR</td>\n",
       "      <td>76760</td>\n",
       "      <td>90734</td>\n",
       "      <td>Germany</td>\n",
       "      <td>Mid-level</td>\n",
       "      <td>Full-time</td>\n",
       "      <td>Hybrid</td>\n",
       "      <td>Germany</td>\n",
       "      <td>Large</td>\n",
       "    </tr>\n",
       "  </tbody>\n",
       "</table>\n",
       "<p>4014 rows × 12 columns</p>\n",
       "</div>"
      ],
      "text/plain": [
       "      work_year           job_title               job_category  \\\n",
       "64         2023        Data Analyst              Data Analysis   \n",
       "111        2023  Research Scientist  Data Science and Research   \n",
       "112        2023  Research Scientist  Data Science and Research   \n",
       "115        2023       Data Engineer           Data Engineering   \n",
       "116        2023       Data Engineer           Data Engineering   \n",
       "...         ...                 ...                        ...   \n",
       "9079       2022      Data Scientist  Data Science and Research   \n",
       "9080       2022       Data Engineer           Data Engineering   \n",
       "9081       2022       Data Engineer           Data Engineering   \n",
       "9214       2021       Data Engineer           Data Engineering   \n",
       "9314       2021      Data Scientist  Data Science and Research   \n",
       "\n",
       "     salary_currency  salary  salary_in_usd employee_residence  \\\n",
       "64               USD   75000          75000      United States   \n",
       "111              USD  165000         165000      United States   \n",
       "112              USD  118800         118800      United States   \n",
       "115              USD  184000         184000      United States   \n",
       "116              USD  123000         123000      United States   \n",
       "...              ...     ...            ...                ...   \n",
       "9079             USD   78000          78000      United States   \n",
       "9080             USD  135000         135000      United States   \n",
       "9081             USD  115000         115000      United States   \n",
       "9214             USD  200000         200000      United States   \n",
       "9314             EUR   76760          90734            Germany   \n",
       "\n",
       "     experience_level employment_type work_setting company_location  \\\n",
       "64        Entry-level       Full-time    In-person    United States   \n",
       "111         Mid-level       Full-time       Remote    United States   \n",
       "112         Mid-level       Full-time       Remote    United States   \n",
       "115         Mid-level       Full-time    In-person    United States   \n",
       "116         Mid-level       Full-time    In-person    United States   \n",
       "...               ...             ...          ...              ...   \n",
       "9079        Mid-level       Full-time       Remote    United States   \n",
       "9080           Senior       Full-time       Remote    United States   \n",
       "9081           Senior       Full-time       Remote    United States   \n",
       "9214        Mid-level       Full-time       Remote    United States   \n",
       "9314        Mid-level       Full-time       Hybrid          Germany   \n",
       "\n",
       "     company_size  \n",
       "64         Medium  \n",
       "111        Medium  \n",
       "112        Medium  \n",
       "115        Medium  \n",
       "116        Medium  \n",
       "...           ...  \n",
       "9079       Medium  \n",
       "9080       Medium  \n",
       "9081       Medium  \n",
       "9214        Large  \n",
       "9314        Large  \n",
       "\n",
       "[4014 rows x 12 columns]"
      ]
     },
     "execution_count": 12,
     "metadata": {},
     "output_type": "execute_result"
    }
   ],
   "source": [
    "dups"
   ]
  },
  {
   "cell_type": "markdown",
   "id": "38ad4ced",
   "metadata": {},
   "source": [
    "# The above cannot be considered as duplicates, as it applies to different employees in different years, and the values in the other columns also differs for each and every employee. Hence no steps were taken to address it and just left as it is."
   ]
  },
  {
   "cell_type": "code",
   "execution_count": 13,
   "id": "78905d47",
   "metadata": {},
   "outputs": [
    {
     "name": "stderr",
     "output_type": "stream",
     "text": [
      "C:\\Users\\srira\\anaconda3\\Lib\\site-packages\\seaborn\\_oldcore.py:1498: FutureWarning: is_categorical_dtype is deprecated and will be removed in a future version. Use isinstance(dtype, CategoricalDtype) instead\n",
      "  if pd.api.types.is_categorical_dtype(vector):\n",
      "C:\\Users\\srira\\anaconda3\\Lib\\site-packages\\seaborn\\_oldcore.py:1119: FutureWarning: use_inf_as_na option is deprecated and will be removed in a future version. Convert inf values to NaN before operating instead.\n",
      "  with pd.option_context('mode.use_inf_as_na', True):\n"
     ]
    },
    {
     "data": {
      "text/plain": [
       "<Axes: xlabel='salary_in_usd', ylabel='Count'>"
      ]
     },
     "execution_count": 13,
     "metadata": {},
     "output_type": "execute_result"
    },
    {
     "data": {
      "image/png": "[encoded data removed]",
      "text/plain": [
       "<Figure size 640x480 with 1 Axes>"
      ]
     },
     "metadata": {},
     "output_type": "display_data"
    }
   ],
   "source": [
    "# Extreme values check for 'salary_in_usd'\n",
    "\n",
    "sns.histplot(df_sal['salary_in_usd'], bins = 20, kde = True)"
   ]
  },
  {
   "cell_type": "code",
   "execution_count": 14,
   "id": "1fae3375",
   "metadata": {},
   "outputs": [],
   "source": [
    "# Clean extreme values\n",
    "\n",
    "df_sal = df_sal[df_sal['salary_in_usd'] < 400000] "
   ]
  },
  {
   "cell_type": "code",
   "execution_count": 15,
   "id": "07d50c40",
   "metadata": {},
   "outputs": [
    {
     "data": {
      "text/plain": [
       "150067.31293463142"
      ]
     },
     "execution_count": 15,
     "metadata": {},
     "output_type": "execute_result"
    }
   ],
   "source": [
    "df_sal['salary_in_usd'].mean() # Check the mean"
   ]
  },
  {
   "cell_type": "code",
   "execution_count": 16,
   "id": "47912244",
   "metadata": {},
   "outputs": [
    {
     "data": {
      "text/plain": [
       "143000.0"
      ]
     },
     "execution_count": 16,
     "metadata": {},
     "output_type": "execute_result"
    }
   ],
   "source": [
    "df_sal['salary_in_usd'].median() # Check the median"
   ]
  },
  {
   "cell_type": "code",
   "execution_count": 17,
   "id": "e760450c",
   "metadata": {},
   "outputs": [
    {
     "data": {
      "text/plain": [
       "399880"
      ]
     },
     "execution_count": 17,
     "metadata": {},
     "output_type": "execute_result"
    }
   ],
   "source": [
    "df_sal['salary_in_usd'].max() # Check the mean"
   ]
  },
  {
   "cell_type": "markdown",
   "id": "5feb3772",
   "metadata": {},
   "source": [
    "# 3. Data prep for Regression Analysis"
   ]
  },
  {
   "cell_type": "markdown",
   "id": "9a8fc5ef",
   "metadata": {},
   "source": [
    "# Hypothesis : If the data professional is in a good position, better would be the salary of the data professional."
   ]
  },
  {
   "cell_type": "code",
   "execution_count": 28,
   "id": "783d6fed",
   "metadata": {},
   "outputs": [],
   "source": [
    "# Create subset with required variables\n",
    "\n",
    "sub = df_sal[['job_title', 'company_location', 'employment_type', 'experience_level', 'salary_in_usd']]"
   ]
  },
  {
   "cell_type": "code",
   "execution_count": 29,
   "id": "4b55afac",
   "metadata": {},
   "outputs": [],
   "source": [
    "# Converting categorical to numerical values by using LabelEncoder\n",
    "\n",
    "from sklearn.preprocessing import LabelEncoder\n",
    "len = LabelEncoder()\n"
   ]
  },
  {
   "cell_type": "code",
   "execution_count": 30,
   "id": "b7a64d1d",
   "metadata": {},
   "outputs": [
    {
     "name": "stderr",
     "output_type": "stream",
     "text": [
      "C:\\Users\\srira\\AppData\\Local\\Temp\\ipykernel_8992\\2479840406.py:3: SettingWithCopyWarning: \n",
      "A value is trying to be set on a copy of a slice from a DataFrame.\n",
      "Try using .loc[row_indexer,col_indexer] = value instead\n",
      "\n",
      "See the caveats in the documentation: https://pandas.pydata.org/pandas-docs/stable/user_guide/indexing.html#returning-a-view-versus-a-copy\n",
      "  sub['job_title'] = len.fit_transform(sub['job_title'])\n"
     ]
    },
    {
     "data": {
      "text/plain": [
       "array([ 42,  41,  69, 102,  44,  96,  35,   7,  12,  18,  25, 119, 117,\n",
       "       118,  64,  60,  58, 103,   2,  94,  78,  52,  59,  62,  22,   1,\n",
       "        51,  93,  63,  85,  15,  49,  99,  71,  16,  46,  26,  47,  67,\n",
       "        24,   4,  48,  50,   0,  66,  72,  27,  97,  61,  80,  21,  77,\n",
       "        84,  73,  32,  76,  88,  75,  81,  39,  14,  43, 114,  65, 122,\n",
       "        45, 104, 100,   5,  87,   9,   3,  54,  11,  38,  55,  98,  91,\n",
       "       115, 113, 111,  86, 124, 123,  34, 105,  23,  56,  92, 107,  53,\n",
       "        83, 121, 101,  31,  57,  29,   8, 110,   6, 116,  95,  74,  13,\n",
       "       120,  10,  82,  20,  89,  17,  30,  79,  40,  19,  33, 109, 106,\n",
       "        36,  68,  70, 108,  37,  28,  90, 112])"
      ]
     },
     "execution_count": 30,
     "metadata": {},
     "output_type": "execute_result"
    }
   ],
   "source": [
    "# Converting job_title to numerical\n",
    "\n",
    "sub['job_title'] = len.fit_transform(sub['job_title'])\n",
    "sub['job_title'].unique()"
   ]
  },
  {
   "cell_type": "code",
   "execution_count": 31,
   "id": "6d585ba4",
   "metadata": {},
   "outputs": [
    {
     "data": {
      "image/png": "[encoded data removed]",
      "text/plain": [
       "<Figure size 640x480 with 1 Axes>"
      ]
     },
     "metadata": {},
     "output_type": "display_data"
    }
   ],
   "source": [
    "# Create a scatterplot using matplotlib for another look at how the chosen variables plot against each other.\n",
    "\n",
    "df_sal.plot(x = 'job_title', y='salary_in_usd',style='o') # The style option creates a scatterplot; without it, we only have lines.\n",
    "plt.title('Job Title vs Salary')  \n",
    "plt.xlabel('job_title')  \n",
    "plt.ylabel('salary_in_usd')  \n",
    "plt.show()"
   ]
  },
  {
   "cell_type": "code",
   "execution_count": 32,
   "id": "96ed9843",
   "metadata": {},
   "outputs": [],
   "source": [
    "# Reshape the variables into NumPy arrays and put them into separate objects.\n",
    "\n",
    "X = sub['job_title'].values.reshape(-1,1)\n",
    "y = sub['salary_in_usd'].values.reshape(-1,1)"
   ]
  },
  {
   "cell_type": "code",
   "execution_count": 35,
   "id": "7a9da7ad",
   "metadata": {},
   "outputs": [
    {
     "data": {
      "text/plain": [
       "array([[ 42],\n",
       "       [ 41],\n",
       "       [ 41],\n",
       "       ...,\n",
       "       [114],\n",
       "       [ 69],\n",
       "       [ 21]])"
      ]
     },
     "execution_count": 35,
     "metadata": {},
     "output_type": "execute_result"
    }
   ],
   "source": [
    "X"
   ]
  },
  {
   "cell_type": "code",
   "execution_count": 36,
   "id": "61061d44",
   "metadata": {},
   "outputs": [
    {
     "data": {
      "text/plain": [
       "array([[ 95012],\n",
       "       [186000],\n",
       "       [ 81800],\n",
       "       ...,\n",
       "       [151000],\n",
       "       [105000],\n",
       "       [100000]], dtype=int64)"
      ]
     },
     "execution_count": 36,
     "metadata": {},
     "output_type": "execute_result"
    }
   ],
   "source": [
    "y"
   ]
  },
  {
   "cell_type": "code",
   "execution_count": 37,
   "id": "ed95eb8b",
   "metadata": {},
   "outputs": [],
   "source": [
    "# Split data into a training set and a test set.\n",
    "\n",
    "X_train, X_test, y_train, y_test = train_test_split(X, y, test_size=0.3, random_state=0)"
   ]
  },
  {
   "cell_type": "markdown",
   "id": "9eb0e255",
   "metadata": {},
   "source": [
    "# 4. Regression Analysis"
   ]
  },
  {
   "cell_type": "code",
   "execution_count": 38,
   "id": "e7602e83",
   "metadata": {},
   "outputs": [],
   "source": [
    "# Create a regression object.\n",
    "\n",
    "regression = LinearRegression() "
   ]
  },
  {
   "cell_type": "code",
   "execution_count": 39,
   "id": "b5914632",
   "metadata": {},
   "outputs": [
    {
     "data": {
      "text/html": [
       "<style>#sk-container-id-1 {color: black;}#sk-container-id-1 pre{padding: 0;}#sk-container-id-1 div.sk-toggleable {background-color: white;}#sk-container-id-1 label.sk-toggleable__label {cursor: pointer;display: block;width: 100%;margin-bottom: 0;padding: 0.3em;box-sizing: border-box;text-align: center;}#sk-container-id-1 label.sk-toggleable__label-arrow:before {content: \"▸\";float: left;margin-right: 0.25em;color: #696969;}#sk-container-id-1 label.sk-toggleable__label-arrow:hover:before {color: black;}#sk-container-id-1 div.sk-estimator:hover label.sk-toggleable__label-arrow:before {color: black;}#sk-container-id-1 div.sk-toggleable__content {max-height: 0;max-width: 0;overflow: hidden;text-align: left;background-color: #f0f8ff;}#sk-container-id-1 div.sk-toggleable__content pre {margin: 0.2em;color: black;border-radius: 0.25em;background-color: #f0f8ff;}#sk-container-id-1 input.sk-toggleable__control:checked~div.sk-toggleable__content {max-height: 200px;max-width: 100%;overflow: auto;}#sk-container-id-1 input.sk-toggleable__control:checked~label.sk-toggleable__label-arrow:before {content: \"▾\";}#sk-container-id-1 div.sk-estimator input.sk-toggleable__control:checked~label.sk-toggleable__label {background-color: #d4ebff;}#sk-container-id-1 div.sk-label input.sk-toggleable__control:checked~label.sk-toggleable__label {background-color: #d4ebff;}#sk-container-id-1 input.sk-hidden--visually {border: 0;clip: rect(1px 1px 1px 1px);clip: rect(1px, 1px, 1px, 1px);height: 1px;margin: -1px;overflow: hidden;padding: 0;position: absolute;width: 1px;}#sk-container-id-1 div.sk-estimator {font-family: monospace;background-color: #f0f8ff;border: 1px dotted black;border-radius: 0.25em;box-sizing: border-box;margin-bottom: 0.5em;}#sk-container-id-1 div.sk-estimator:hover {background-color: #d4ebff;}#sk-container-id-1 div.sk-parallel-item::after {content: \"\";width: 100%;border-bottom: 1px solid gray;flex-grow: 1;}#sk-container-id-1 div.sk-label:hover label.sk-toggleable__label {background-color: #d4ebff;}#sk-container-id-1 div.sk-serial::before {content: \"\";position: absolute;border-left: 1px solid gray;box-sizing: border-box;top: 0;bottom: 0;left: 50%;z-index: 0;}#sk-container-id-1 div.sk-serial {display: flex;flex-direction: column;align-items: center;background-color: white;padding-right: 0.2em;padding-left: 0.2em;position: relative;}#sk-container-id-1 div.sk-item {position: relative;z-index: 1;}#sk-container-id-1 div.sk-parallel {display: flex;align-items: stretch;justify-content: center;background-color: white;position: relative;}#sk-container-id-1 div.sk-item::before, #sk-container-id-1 div.sk-parallel-item::before {content: \"\";position: absolute;border-left: 1px solid gray;box-sizing: border-box;top: 0;bottom: 0;left: 50%;z-index: -1;}#sk-container-id-1 div.sk-parallel-item {display: flex;flex-direction: column;z-index: 1;position: relative;background-color: white;}#sk-container-id-1 div.sk-parallel-item:first-child::after {align-self: flex-end;width: 50%;}#sk-container-id-1 div.sk-parallel-item:last-child::after {align-self: flex-start;width: 50%;}#sk-container-id-1 div.sk-parallel-item:only-child::after {width: 0;}#sk-container-id-1 div.sk-dashed-wrapped {border: 1px dashed gray;margin: 0 0.4em 0.5em 0.4em;box-sizing: border-box;padding-bottom: 0.4em;background-color: white;}#sk-container-id-1 div.sk-label label {font-family: monospace;font-weight: bold;display: inline-block;line-height: 1.2em;}#sk-container-id-1 div.sk-label-container {text-align: center;}#sk-container-id-1 div.sk-container {/* jupyter's `normalize.less` sets `[hidden] { display: none; }` but bootstrap.min.css set `[hidden] { display: none !important; }` so we also need the `!important` here to be able to override the default hidden behavior on the sphinx rendered scikit-learn.org. See: https://github.com/scikit-learn/scikit-learn/issues/21755 */display: inline-block !important;position: relative;}#sk-container-id-1 div.sk-text-repr-fallback {display: none;}</style><div id=\"sk-container-id-1\" class=\"sk-top-container\"><div class=\"sk-text-repr-fallback\"><pre>LinearRegression()</pre><b>In a Jupyter environment, please rerun this cell to show the HTML representation or trust the notebook. <br />On GitHub, the HTML representation is unable to render, please try loading this page with nbviewer.org.</b></div><div class=\"sk-container\" hidden><div class=\"sk-item\"><div class=\"sk-estimator sk-toggleable\"><input class=\"sk-toggleable__control sk-hidden--visually\" id=\"sk-estimator-id-1\" type=\"checkbox\" checked><label for=\"sk-estimator-id-1\" class=\"sk-toggleable__label sk-toggleable__label-arrow\">LinearRegression</label><div class=\"sk-toggleable__content\"><pre>LinearRegression()</pre></div></div></div></div></div>"
      ],
      "text/plain": [
       "LinearRegression()"
      ]
     },
     "execution_count": 39,
     "metadata": {},
     "output_type": "execute_result"
    }
   ],
   "source": [
    "# Fit the regression object onto the training set.\n",
    "\n",
    "regression.fit(X_train, y_train)"
   ]
  },
  {
   "cell_type": "code",
   "execution_count": 40,
   "id": "2446ecc1",
   "metadata": {},
   "outputs": [],
   "source": [
    "# Predict the values of y using X.\n",
    "\n",
    "y_predicted = regression.predict(X_test)"
   ]
  },
  {
   "cell_type": "code",
   "execution_count": 41,
   "id": "693564b6",
   "metadata": {},
   "outputs": [
    {
     "data": {
      "image/png": "[encoded data removed]",
      "text/plain": [
       "<Figure size 640x480 with 1 Axes>"
      ]
     },
     "metadata": {},
     "output_type": "display_data"
    }
   ],
   "source": [
    "# Create a plot that shows the regression line from the model on the test set.\n",
    "\n",
    "plot_test = plt\n",
    "plot_test.scatter(X_test, y_test, color='gray', s = 15)\n",
    "plot_test.plot(X_test, y_predicted, color='red', linewidth =3)\n",
    "plot_test.title('Job_title vs Salary_in_usd (Test set)')\n",
    "plot_test.xlabel('job_title')\n",
    "plot_test.ylabel('salary_in_usd')\n",
    "plot_test.show()"
   ]
  },
  {
   "cell_type": "code",
   "execution_count": 42,
   "id": "81f1efdd",
   "metadata": {},
   "outputs": [],
   "source": [
    "# Create objects that contain the model summary statistics.\n",
    "\n",
    "rmse = mean_squared_error(y_test, y_predicted) # Mean squared error\n",
    "r2 = r2_score(y_test, y_predicted) # The R2 score. "
   ]
  },
  {
   "cell_type": "code",
   "execution_count": 43,
   "id": "af54828f",
   "metadata": {},
   "outputs": [
    {
     "name": "stdout",
     "output_type": "stream",
     "text": [
      "Slope: [[488.18127113]]\n",
      "Mean squared error:  3779605293.275822\n",
      "R2 score:  0.042847824797672684\n"
     ]
    }
   ],
   "source": [
    "# Print the model summary statistics. Evaluating the performance of the model.\n",
    "\n",
    "print('Slope:' ,regression.coef_)\n",
    "print('Mean squared error: ', rmse)\n",
    "print('R2 score: ', r2)"
   ]
  },
  {
   "cell_type": "markdown",
   "id": "50e028e2",
   "metadata": {},
   "source": [
    "# The values of mse is very large and R2 score is very small, thereby indicating a poor fit  and also the regression line is not an accurate representation."
   ]
  },
  {
   "cell_type": "code",
   "execution_count": 44,
   "id": "e1367e7f",
   "metadata": {},
   "outputs": [
    {
     "data": {
      "text/plain": [
       "array([[138984.5711024 ],\n",
       "       [143378.20254256],\n",
       "       [155582.73432078],\n",
       "       ...,\n",
       "       [143378.20254256],\n",
       "       [143378.20254256],\n",
       "       [138984.5711024 ]])"
      ]
     },
     "execution_count": 44,
     "metadata": {},
     "output_type": "execute_result"
    }
   ],
   "source": [
    "y_predicted"
   ]
  },
  {
   "cell_type": "code",
   "execution_count": 45,
   "id": "fa3891e4",
   "metadata": {},
   "outputs": [
    {
     "data": {
      "text/html": [
       "<div>\n",
       "<style scoped>\n",
       "    .dataframe tbody tr th:only-of-type {\n",
       "        vertical-align: middle;\n",
       "    }\n",
       "\n",
       "    .dataframe tbody tr th {\n",
       "        vertical-align: top;\n",
       "    }\n",
       "\n",
       "    .dataframe thead th {\n",
       "        text-align: right;\n",
       "    }\n",
       "</style>\n",
       "<table border=\"1\" class=\"dataframe\">\n",
       "  <thead>\n",
       "    <tr style=\"text-align: right;\">\n",
       "      <th></th>\n",
       "      <th>Actual</th>\n",
       "      <th>Predicted</th>\n",
       "    </tr>\n",
       "  </thead>\n",
       "  <tbody>\n",
       "    <tr>\n",
       "      <th>0</th>\n",
       "      <td>169000</td>\n",
       "      <td>138984.571102</td>\n",
       "    </tr>\n",
       "    <tr>\n",
       "      <th>1</th>\n",
       "      <td>121000</td>\n",
       "      <td>143378.202543</td>\n",
       "    </tr>\n",
       "    <tr>\n",
       "      <th>2</th>\n",
       "      <td>158400</td>\n",
       "      <td>155582.734321</td>\n",
       "    </tr>\n",
       "    <tr>\n",
       "      <th>3</th>\n",
       "      <td>62500</td>\n",
       "      <td>156559.096863</td>\n",
       "    </tr>\n",
       "    <tr>\n",
       "      <th>4</th>\n",
       "      <td>127300</td>\n",
       "      <td>155582.734321</td>\n",
       "    </tr>\n",
       "    <tr>\n",
       "      <th>5</th>\n",
       "      <td>105000</td>\n",
       "      <td>143378.202543</td>\n",
       "    </tr>\n",
       "    <tr>\n",
       "      <th>6</th>\n",
       "      <td>135000</td>\n",
       "      <td>143378.202543</td>\n",
       "    </tr>\n",
       "    <tr>\n",
       "      <th>7</th>\n",
       "      <td>92280</td>\n",
       "      <td>138984.571102</td>\n",
       "    </tr>\n",
       "    <tr>\n",
       "      <th>8</th>\n",
       "      <td>250000</td>\n",
       "      <td>155582.734321</td>\n",
       "    </tr>\n",
       "    <tr>\n",
       "      <th>9</th>\n",
       "      <td>51081</td>\n",
       "      <td>155582.734321</td>\n",
       "    </tr>\n",
       "    <tr>\n",
       "      <th>10</th>\n",
       "      <td>185000</td>\n",
       "      <td>155582.734321</td>\n",
       "    </tr>\n",
       "    <tr>\n",
       "      <th>11</th>\n",
       "      <td>275300</td>\n",
       "      <td>155582.734321</td>\n",
       "    </tr>\n",
       "    <tr>\n",
       "      <th>12</th>\n",
       "      <td>100000</td>\n",
       "      <td>155582.734321</td>\n",
       "    </tr>\n",
       "    <tr>\n",
       "      <th>13</th>\n",
       "      <td>136000</td>\n",
       "      <td>127756.401866</td>\n",
       "    </tr>\n",
       "    <tr>\n",
       "      <th>14</th>\n",
       "      <td>305000</td>\n",
       "      <td>143378.202543</td>\n",
       "    </tr>\n",
       "    <tr>\n",
       "      <th>15</th>\n",
       "      <td>136000</td>\n",
       "      <td>155582.734321</td>\n",
       "    </tr>\n",
       "    <tr>\n",
       "      <th>16</th>\n",
       "      <td>385000</td>\n",
       "      <td>143378.202543</td>\n",
       "    </tr>\n",
       "    <tr>\n",
       "      <th>17</th>\n",
       "      <td>155000</td>\n",
       "      <td>143378.202543</td>\n",
       "    </tr>\n",
       "    <tr>\n",
       "      <th>18</th>\n",
       "      <td>142200</td>\n",
       "      <td>168763.628641</td>\n",
       "    </tr>\n",
       "    <tr>\n",
       "      <th>19</th>\n",
       "      <td>107000</td>\n",
       "      <td>143378.202543</td>\n",
       "    </tr>\n",
       "    <tr>\n",
       "      <th>20</th>\n",
       "      <td>231250</td>\n",
       "      <td>125315.495511</td>\n",
       "    </tr>\n",
       "    <tr>\n",
       "      <th>21</th>\n",
       "      <td>127300</td>\n",
       "      <td>155582.734321</td>\n",
       "    </tr>\n",
       "    <tr>\n",
       "      <th>22</th>\n",
       "      <td>138750</td>\n",
       "      <td>143378.202543</td>\n",
       "    </tr>\n",
       "    <tr>\n",
       "      <th>23</th>\n",
       "      <td>79976</td>\n",
       "      <td>155582.734321</td>\n",
       "    </tr>\n",
       "    <tr>\n",
       "      <th>24</th>\n",
       "      <td>172100</td>\n",
       "      <td>155582.734321</td>\n",
       "    </tr>\n",
       "    <tr>\n",
       "      <th>25</th>\n",
       "      <td>258700</td>\n",
       "      <td>155582.734321</td>\n",
       "    </tr>\n",
       "    <tr>\n",
       "      <th>26</th>\n",
       "      <td>125000</td>\n",
       "      <td>138984.571102</td>\n",
       "    </tr>\n",
       "    <tr>\n",
       "      <th>27</th>\n",
       "      <td>72000</td>\n",
       "      <td>138984.571102</td>\n",
       "    </tr>\n",
       "    <tr>\n",
       "      <th>28</th>\n",
       "      <td>111000</td>\n",
       "      <td>143378.202543</td>\n",
       "    </tr>\n",
       "    <tr>\n",
       "      <th>29</th>\n",
       "      <td>203000</td>\n",
       "      <td>179503.616606</td>\n",
       "    </tr>\n",
       "  </tbody>\n",
       "</table>\n",
       "</div>"
      ],
      "text/plain": [
       "    Actual      Predicted\n",
       "0   169000  138984.571102\n",
       "1   121000  143378.202543\n",
       "2   158400  155582.734321\n",
       "3    62500  156559.096863\n",
       "4   127300  155582.734321\n",
       "5   105000  143378.202543\n",
       "6   135000  143378.202543\n",
       "7    92280  138984.571102\n",
       "8   250000  155582.734321\n",
       "9    51081  155582.734321\n",
       "10  185000  155582.734321\n",
       "11  275300  155582.734321\n",
       "12  100000  155582.734321\n",
       "13  136000  127756.401866\n",
       "14  305000  143378.202543\n",
       "15  136000  155582.734321\n",
       "16  385000  143378.202543\n",
       "17  155000  143378.202543\n",
       "18  142200  168763.628641\n",
       "19  107000  143378.202543\n",
       "20  231250  125315.495511\n",
       "21  127300  155582.734321\n",
       "22  138750  143378.202543\n",
       "23   79976  155582.734321\n",
       "24  172100  155582.734321\n",
       "25  258700  155582.734321\n",
       "26  125000  138984.571102\n",
       "27   72000  138984.571102\n",
       "28  111000  143378.202543\n",
       "29  203000  179503.616606"
      ]
     },
     "execution_count": 45,
     "metadata": {},
     "output_type": "execute_result"
    }
   ],
   "source": [
    "# Create a dataframe comparing the actual and predicted values of y.\n",
    "\n",
    "data = pd.DataFrame({'Actual': y_test.flatten(), 'Predicted': y_predicted.flatten()})\n",
    "data.head(30)"
   ]
  },
  {
   "cell_type": "markdown",
   "id": "0444aae6",
   "metadata": {},
   "source": [
    "# There is a verg big difference between the actual and the predicted values, hence this model is not very good in predicting the relationship between the salary and job_title variables."
   ]
  },
  {
   "cell_type": "markdown",
   "id": "b1c54124",
   "metadata": {},
   "source": [
    "# Compare how the regression fits the training set"
   ]
  },
  {
   "cell_type": "code",
   "execution_count": 59,
   "id": "0ec274d0",
   "metadata": {},
   "outputs": [],
   "source": [
    "# Predict.\n",
    "\n",
    "y_predicted_train = regression.predict(X_train) # Predicting X-train"
   ]
  },
  {
   "cell_type": "code",
   "execution_count": 60,
   "id": "de9f2e23",
   "metadata": {},
   "outputs": [],
   "source": [
    "rmse = mean_squared_error(y_train, y_predicted_train)\n",
    "r2 = r2_score(y_train, y_predicted_train)"
   ]
  },
  {
   "cell_type": "code",
   "execution_count": 61,
   "id": "8ddd196d",
   "metadata": {},
   "outputs": [
    {
     "name": "stdout",
     "output_type": "stream",
     "text": [
      "Slope: [[23867.93635721]]\n",
      "Mean squared error:  2134368396919.172\n",
      "R2 score:  -543.0187000343351\n"
     ]
    }
   ],
   "source": [
    "print('Slope:' ,regression.coef_)\n",
    "print('Mean squared error: ', rmse)\n",
    "print('R2 score: ', r2)"
   ]
  },
  {
   "cell_type": "code",
   "execution_count": 62,
   "id": "67b87b74",
   "metadata": {},
   "outputs": [
    {
     "data": {
      "image/png": "[encoded data removed]",
      "text/plain": [
       "<Figure size 640x480 with 1 Axes>"
      ]
     },
     "metadata": {},
     "output_type": "display_data"
    }
   ],
   "source": [
    "# Visualizing the training set results.\n",
    "\n",
    "plot_test = plt\n",
    "plot_test.scatter(X_train, y_train, color='green', s = 15)\n",
    "plot_test.plot(X_train, y_predicted_train, color='red', linewidth =3)\n",
    "plot_test.title('Job_title vs Price per unit (Train set)')\n",
    "plot_test.xlabel('job_title')\n",
    "plot_test.ylabel('salary_in_usd')\n",
    "plot_test.show()"
   ]
  },
  {
   "cell_type": "markdown",
   "id": "cb10ff7a",
   "metadata": {},
   "source": [
    "# When doing the same with the training set, the MSE value is way too large and the R2 score has gone in negative, which clearly indicates that the relationship between the job_title and the salary variables in not linear. "
   ]
  },
  {
   "cell_type": "markdown",
   "id": "37377748",
   "metadata": {},
   "source": [
    "# Eventhough the salary would vary depending on the job_title, it is not the only one that is to be considered. Other variables such as the experience level, employment type and the company location would also have to be taken into account in order to determine the salary structures of different roles in the data science field."
   ]
  }
 ],
 "metadata": {
  "kernelspec": {
   "display_name": "Python 3 (ipykernel)",
   "language": "python",
   "name": "python3"
  },
  "language_info": {
   "codemirror_mode": {
    "name": "ipython",
    "version": 3
   },
   "file_extension": ".py",
   "mimetype": "text/x-python",
   "name": "python",
   "nbconvert_exporter": "python",
   "pygments_lexer": "ipython3",
   "version": "3.11.5"
  }
 },
 "nbformat": 4,
 "nbformat_minor": 5
}
